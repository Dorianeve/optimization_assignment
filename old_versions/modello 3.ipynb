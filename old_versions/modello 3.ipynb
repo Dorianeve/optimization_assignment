{
 "cells": [
  {
   "cell_type": "code",
   "execution_count": 2,
   "metadata": {},
   "outputs": [],
   "source": [
    "using JuMP, GLPK;"
   ]
  },
  {
   "cell_type": "code",
   "execution_count": 4,
   "metadata": {},
   "outputs": [],
   "source": [
    "#MODELLO 3 GONUTS\n",
    "#setting del modello con la scelta del solutore\n",
    "m3 = Model(with_optimizer(GLPK.Optimizer));\n",
    "#dichiarazione delle variabili (quantità dei prodotti al massimo uguale a zero)\n",
    "@variable(m3, x1 >=0);\n",
    "@variable(m3, x2 >=0);\n",
    "@variable(m3, x3 >=0);\n",
    "@variable(m3, x4 >=0);\n",
    "@variable(m3, x5 >=0);\n",
    "@variable(m3, x6 >=0);\n",
    "#si aggiungono le variabili che misura il costo minimo da sostenere in casd l'iesimo impianto produce\n",
    "@variable(m3, 0<=y1<=1);\n",
    "@variable(m3, 0<=y2<=1);\n",
    "@variable(m3, 0<=y3<=1);\n",
    "#dichiarazione della funzione obiettivo: minimizzazione dei costi\n",
    "@objective(m3, Min, 21x1 + 22.5x2 + 22.5x3 + 24.5x4 + 23x5 + 25.5x6 + 1500y1 + 2000y2 + 3000y3);\n",
    "#dichiarazione dei vincoli\n",
    "@constraint(m3, constraint1, x1 +  x2 <= 425);\n",
    "@constraint(m3, constraint2, x3 +  x4 <= 400);\n",
    "@constraint(m3, constraint3, x5 +  x6 <= 750);\n",
    "@constraint(m3, constraint4, x1 +  x3 + x5 >= 550);\n",
    "@constraint(m3, constraint5, x2 +  x4 + x6 >= 450);\n",
    "@constraint(m3, constraint6, x1 +  x2 -425y1 <= 0);\n",
    "@constraint(m3, constraint7, x3 +  x4 -400y2 <= 0);\n",
    "@constraint(m3, constraint8, x5 +  x6 -750y3 <= 0);\n",
    "@constraint(m3, constraint9, x1 +  x2 -100y1 >= 0);\n",
    "@constraint(m3, constraint10, x3 +  x4 -250y2 >= 0);\n",
    "@constraint(m3, constraint11, x5 +  x6 -600y3 >= 0);"
   ]
  },
  {
   "cell_type": "code",
   "execution_count": 6,
   "metadata": {},
   "outputs": [
    {
     "name": "stdout",
     "output_type": "stream",
     "text": [
      "Min 21 x1 + 22.5 x2 + 22.5 x3 + 24.5 x4 + 23 x5 + 25.5 x6 + 1500 y1 + 2000 y2 + 3000 y3\n",
      "Subject to\n",
      " constraint4 : x1 + x3 + x5 >= 550.0\n",
      " constraint5 : x2 + x4 + x6 >= 450.0\n",
      " constraint9 : x1 + x2 - 100 y1 >= 0.0\n",
      " constraint10 : x3 + x4 - 250 y2 >= 0.0\n",
      " constraint11 : x5 + x6 - 600 y3 >= 0.0\n",
      " constraint1 : x1 + x2 <= 425.0\n",
      " constraint2 : x3 + x4 <= 400.0\n",
      " constraint3 : x5 + x6 <= 750.0\n",
      " constraint6 : x1 + x2 - 425 y1 <= 0.0\n",
      " constraint7 : x3 + x4 - 400 y2 <= 0.0\n",
      " constraint8 : x5 + x6 - 750 y3 <= 0.0\n",
      " x1 >= 0.0\n",
      " x2 >= 0.0\n",
      " x3 >= 0.0\n",
      " x4 >= 0.0\n",
      " x5 >= 0.0\n",
      " x6 >= 0.0\n",
      " y1 >= 0.0\n",
      " y2 >= 0.0\n",
      " y3 >= 0.0\n",
      " y1 <= 1.0\n",
      " y2 <= 1.0\n",
      " y3 <= 1.0\n"
     ]
    }
   ],
   "source": [
    "#print del modello completo\n",
    "print(m3)"
   ]
  },
  {
   "cell_type": "code",
   "execution_count": 7,
   "metadata": {},
   "outputs": [
    {
     "name": "stdout",
     "output_type": "stream",
     "text": [
      "Optimal Solutions:\n",
      "x1 = 0.0\n",
      "x2 = 425.0\n",
      "x3 = 0.0\n",
      "x4 = 0.0\n",
      "x5 = 550.0\n",
      "x6 = 25.0\n",
      "y1 = 1.0\n",
      "y2 = 0.0\n",
      "y3 = 0.7666666666666667\n"
     ]
    }
   ],
   "source": [
    "#ottimizzazione e print dei risultati\n",
    "optimize!(m3)\n",
    "println(\"Optimal Solutions:\")\n",
    "println(\"x1 = \", value(x1))\n",
    "println(\"x2 = \", value(x2))\n",
    "println(\"x3 = \", value(x3))\n",
    "println(\"x4 = \", value(x4))\n",
    "println(\"x5 = \", value(x5))\n",
    "println(\"x6 = \", value(x6))\n",
    "println(\"y1 = \", value(y1))\n",
    "println(\"y2 = \", value(y2))\n",
    "println(\"y3 = \", value(y3))"
   ]
  },
  {
   "cell_type": "code",
   "execution_count": null,
   "metadata": {},
   "outputs": [],
   "source": []
  }
 ],
 "metadata": {
  "kernelspec": {
   "display_name": "Julia 1.5.3",
   "language": "julia",
   "name": "julia-1.5"
  },
  "language_info": {
   "file_extension": ".jl",
   "mimetype": "application/julia",
   "name": "julia",
   "version": "1.5.3"
  }
 },
 "nbformat": 4,
 "nbformat_minor": 4
}
