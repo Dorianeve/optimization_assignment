{
 "cells": [
  {
   "cell_type": "code",
   "execution_count": null,
   "metadata": {},
   "outputs": [],
   "source": [
    "## GoNuts Model 3 \n",
    "## Decision Making and Optimization - assignment prof.Liuzzi"
   ]
  },
  {
   "cell_type": "code",
   "execution_count": 1,
   "metadata": {},
   "outputs": [],
   "source": [
    "using JuMP, GLPK;"
   ]
  },
  {
   "cell_type": "code",
   "execution_count": 2,
   "metadata": {},
   "outputs": [],
   "source": [
    "m = Model(with_optimizer(GLPK.Optimizer));"
   ]
  },
  {
   "cell_type": "code",
   "execution_count": 3,
   "metadata": {},
   "outputs": [],
   "source": [
    "## definition of the variables\n",
    "@variable(m, xGE >= 0, Int);\n",
    "@variable(m, xKE >= 0, Int);\n",
    "@variable(m, xGT >= 0, Int);\n",
    "@variable(m, xKT >= 0, Int);\n",
    "@variable(m, xGN >= 0, Int);\n",
    "@variable(m, xKN >= 0, Int);\n",
    "@variable(m, yE, Bin);\n",
    "@variable(m, yT, Bin);\n",
    "@variable(m, yN, Bin);"
   ]
  },
  {
   "cell_type": "code",
   "execution_count": 4,
   "metadata": {},
   "outputs": [
    {
     "data": {
      "text/latex": [
       "$$ 21 xGE + 22.5 xKE + 22.5 xGT + 24.5 xKT + 23 xGN + 25.5 xKN + 1500 yE + 2000 yT + 3000 yN $$"
      ],
      "text/plain": [
       "21 xGE + 22.5 xKE + 22.5 xGT + 24.5 xKT + 23 xGN + 25.5 xKN + 1500 yE + 2000 yT + 3000 yN"
      ]
     },
     "execution_count": 4,
     "metadata": {},
     "output_type": "execute_result"
    }
   ],
   "source": [
    "## definition of objective functions\n",
    "@objective(m, Min, 21xGE + 22.5xKE + 22.5xGT + 24.5xKT + 23xGN + 25.5xKN + 1500yE + 2000yT + 3000yN)"
   ]
  },
  {
   "cell_type": "code",
   "execution_count": 5,
   "metadata": {},
   "outputs": [],
   "source": [
    "## definition of constraints\n",
    "@constraint(m, constraintC1, xGE + xKE <= 425);\n",
    "@constraint(m, constraintC2, xGT + xKT <= 400);\n",
    "@constraint(m, constraintC3, xGN + xKN <= 750);\n",
    "@constraint(m, constraintD1, xGE + xGT + xGN >= 550);\n",
    "@constraint(m, constraintD2, xKE + xKT + xKN >= 450);\n",
    "@constraint(m, constraintLmax1, xGE + xKE - 425yE <= 0);\n",
    "@constraint(m, constraintLmax2, xGT + xKT - 400yT <= 0);\n",
    "@constraint(m, constraintLmax3, xGN + xKN - 750yN <= 0);\n",
    "@constraint(m, constraintLmin1, xGE + xKE - 100yE >= 0);\n",
    "@constraint(m, constraintLmin2, xGT + xKT - 250yT >= 0);\n",
    "@constraint(m, constraintLmin3, xGN + xKN - 600yN >= 0);"
   ]
  },
  {
   "cell_type": "code",
   "execution_count": 6,
   "metadata": {},
   "outputs": [
    {
     "name": "stdout",
     "output_type": "stream",
     "text": [
      "Min 21 xGE + 22.5 xKE + 22.5 xGT + 24.5 xKT + 23 xGN + 25.5 xKN + 1500 yE + 2000 yT + 3000 yN\n",
      "Subject to\n",
      " constraintD1 : xGE + xGT + xGN ≥ 550.0\n",
      " constraintD2 : xKE + xKT + xKN ≥ 450.0\n",
      " constraintLmin1 : xGE + xKE - 100 yE ≥ 0.0\n",
      " constraintLmin2 : xGT + xKT - 250 yT ≥ 0.0\n",
      " constraintLmin3 : xGN + xKN - 600 yN ≥ 0.0\n",
      " constraintC1 : xGE + xKE ≤ 425.0\n",
      " constraintC2 : xGT + xKT ≤ 400.0\n",
      " constraintC3 : xGN + xKN ≤ 750.0\n",
      " constraintLmax1 : xGE + xKE - 425 yE ≤ 0.0\n",
      " constraintLmax2 : xGT + xKT - 400 yT ≤ 0.0\n",
      " constraintLmax3 : xGN + xKN - 750 yN ≤ 0.0\n",
      " xGE ≥ 0.0\n",
      " xKE ≥ 0.0\n",
      " xGT ≥ 0.0\n",
      " xKT ≥ 0.0\n",
      " xGN ≥ 0.0\n",
      " xKN ≥ 0.0\n",
      " xGE integer\n",
      " xKE integer\n",
      " xGT integer\n",
      " xKT integer\n",
      " xGN integer\n",
      " xKN integer\n",
      " yE binary\n",
      " yT binary\n",
      " yN binary\n"
     ]
    }
   ],
   "source": [
    "## visualize problems in Jupyter\n",
    "m"
   ]
  },
  {
   "cell_type": "code",
   "execution_count": 7,
   "metadata": {},
   "outputs": [],
   "source": [
    "## launch optimizatio \n",
    "optimize!(m);"
   ]
  },
  {
   "cell_type": "code",
   "execution_count": 8,
   "metadata": {},
   "outputs": [
    {
     "data": {
      "text/plain": [
       "OPTIMAL::TerminationStatusCode = 1"
      ]
     },
     "execution_count": 8,
     "metadata": {},
     "output_type": "execute_result"
    }
   ],
   "source": [
    "termination_status(m)"
   ]
  },
  {
   "cell_type": "code",
   "execution_count": 9,
   "metadata": {},
   "outputs": [
    {
     "name": "stdout",
     "output_type": "stream",
     "text": [
      "Optimal Solutions:\n",
      "xGE = 0.0\n",
      "xKE = 400.0\n",
      "xGT = 0.0\n",
      "xKT = 0.0\n",
      "xGN = 550.0\n",
      "xKN = 50.0\n",
      "yE = 1.0\n",
      "yT = 0.0\n",
      "yN = 1.0\n"
     ]
    }
   ],
   "source": [
    "## print optimal solutions\n",
    "println(\"Optimal Solutions:\");\n",
    "println(\"xGE = \", value(xGE));\n",
    "println(\"xKE = \", value(xKE));\n",
    "println(\"xGT = \", value(xGT));\n",
    "println(\"xKT = \", value(xKT));\n",
    "println(\"xGN = \", value(xGN));\n",
    "println(\"xKN = \", value(xKN));\n",
    "println(\"yE = \", value(yE));\n",
    "println(\"yT = \", value(yT));\n",
    "println(\"yN = \", value(yN));"
   ]
  },
  {
   "cell_type": "code",
   "execution_count": 10,
   "metadata": {},
   "outputs": [
    {
     "name": "stdout",
     "output_type": "stream",
     "text": [
      "** Optimal objective function value = 27425.0\n"
     ]
    }
   ],
   "source": [
    "## print total optimized cost\n",
    "println(\"** Optimal objective function value = \", objective_value(m))"
   ]
  }
 ],
 "metadata": {
  "kernelspec": {
   "display_name": "Julia 1.5.3",
   "language": "julia",
   "name": "julia-1.5"
  },
  "language_info": {
   "file_extension": ".jl",
   "mimetype": "application/julia",
   "name": "julia",
   "version": "1.5.3"
  }
 },
 "nbformat": 4,
 "nbformat_minor": 4
}
