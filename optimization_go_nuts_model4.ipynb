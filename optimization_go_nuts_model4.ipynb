{
 "cells": [
  {
   "cell_type": "code",
   "execution_count": null,
   "metadata": {},
   "outputs": [],
   "source": [
    "## Julia script!!"
   ]
  },
  {
   "cell_type": "code",
   "execution_count": 1,
   "metadata": {},
   "outputs": [],
   "source": [
    "using JuMP, GLPK;"
   ]
  },
  {
   "cell_type": "code",
   "execution_count": 2,
   "metadata": {},
   "outputs": [],
   "source": [
    "m = Model(with_optimizer(GLPK.Optimizer));"
   ]
  },
  {
   "cell_type": "code",
   "execution_count": 3,
   "metadata": {},
   "outputs": [],
   "source": [
    "@variable(m, xGE >= 0, Int);\n",
    "@variable(m, xKE >= 0, Int);\n",
    "@variable(m, xGT >= 0, Int);\n",
    "@variable(m, xKT >= 0, Int);\n",
    "@variable(m, xGN >= 0, Int);\n",
    "@variable(m, xKN >= 0, Int);\n",
    "@variable(m, yE, Bin);\n",
    "@variable(m, yT, Bin);\n",
    "@variable(m, yN, Bin);"
   ]
  },
  {
   "cell_type": "code",
   "execution_count": 4,
   "metadata": {},
   "outputs": [],
   "source": [
    "@objective(m, Min, 21xGE + 22.5xKE + 22.5xGT + 24.5xKT + 23xGN + 25.5xKN);"
   ]
  },
  {
   "cell_type": "code",
   "execution_count": 5,
   "metadata": {},
   "outputs": [],
   "source": [
    "@constraint(m, constraintC1, xGE + xKE <= 425);\n",
    "@constraint(m, constraintC2, xGT + xKT <= 400);\n",
    "@constraint(m, constraintC3, xGN + xKN <= 750);\n",
    "@constraint(m, constraintD1, xGE + xGT + xGN >= 550);\n",
    "@constraint(m, constraintD2, xKE + xKT + xKN >= 450);\n",
    "@constraint(m, constraintLmax1, xGE + xKE - 425yE <= 0);\n",
    "@constraint(m, constraintLmax2, xGT + xKT - 400yT <= 0);\n",
    "@constraint(m, constraintLmax3, xGN + xKN - 750yN <= 0);\n",
    "@constraint(m, constraintMaxPlants, yE + yT + yN <= 2);"
   ]
  },
  {
   "cell_type": "code",
   "execution_count": 6,
   "metadata": {},
   "outputs": [
    {
     "name": "stdout",
     "output_type": "stream",
     "text": [
      "Min 21 xGE + 22.5 xKE + 22.5 xGT + 24.5 xKT + 23 xGN + 25.5 xKN\n",
      "Subject to\n",
      " constraintD1 : xGE + xGT + xGN ≥ 550.0\n",
      " constraintD2 : xKE + xKT + xKN ≥ 450.0\n",
      " constraintC1 : xGE + xKE ≤ 425.0\n",
      " constraintC2 : xGT + xKT ≤ 400.0\n",
      " constraintC3 : xGN + xKN ≤ 750.0\n",
      " constraintLmax1 : xGE + xKE - 425 yE ≤ 0.0\n",
      " constraintLmax2 : xGT + xKT - 400 yT ≤ 0.0\n",
      " constraintLmax3 : xGN + xKN - 750 yN ≤ 0.0\n",
      " constraintMaxPlants : yE + yT + yN ≤ 2.0\n",
      " xGE ≥ 0.0\n",
      " xKE ≥ 0.0\n",
      " xGT ≥ 0.0\n",
      " xKT ≥ 0.0\n",
      " xGN ≥ 0.0\n",
      " xKN ≥ 0.0\n",
      " xGE integer\n",
      " xKE integer\n",
      " xGT integer\n",
      " xKT integer\n",
      " xGN integer\n",
      " xKN integer\n",
      " yE binary\n",
      " yT binary\n",
      " yN binary\n"
     ]
    }
   ],
   "source": [
    "print(m)"
   ]
  },
  {
   "cell_type": "code",
   "execution_count": 7,
   "metadata": {},
   "outputs": [],
   "source": [
    "optimize!(m);"
   ]
  },
  {
   "cell_type": "code",
   "execution_count": 8,
   "metadata": {},
   "outputs": [],
   "source": [
    "termination_status(m);"
   ]
  },
  {
   "cell_type": "code",
   "execution_count": 9,
   "metadata": {},
   "outputs": [
    {
     "name": "stdout",
     "output_type": "stream",
     "text": [
      "Optimal Solutions:\n",
      "xGE = 0.0\n",
      "xKE = 425.0\n",
      "xGT = 0.0\n",
      "xKT = 0.0\n",
      "xGN = 550.0\n",
      "xKN = 25.0\n",
      "yE = 1.0\n",
      "yT = 0.0\n",
      "yN = 1.0\n"
     ]
    }
   ],
   "source": [
    "println(\"Optimal Solutions:\");\n",
    "println(\"xGE = \", value(xGE));\n",
    "println(\"xKE = \", value(xKE));\n",
    "println(\"xGT = \", value(xGT));\n",
    "println(\"xKT = \", value(xKT));\n",
    "println(\"xGN = \", value(xGN));\n",
    "println(\"xKN = \", value(xKN));\n",
    "println(\"yE = \", value(yE));\n",
    "println(\"yT = \", value(yT));\n",
    "println(\"yN = \", value(yN));"
   ]
  },
  {
   "cell_type": "code",
   "execution_count": 10,
   "metadata": {},
   "outputs": [
    {
     "name": "stdout",
     "output_type": "stream",
     "text": [
      "** Optimal objective function value = 22850.0\n"
     ]
    }
   ],
   "source": [
    "println(\"** Optimal objective function value = \", objective_value(m))"
   ]
  },
  {
   "cell_type": "code",
   "execution_count": null,
   "metadata": {},
   "outputs": [],
   "source": []
  },
  {
   "cell_type": "code",
   "execution_count": null,
   "metadata": {},
   "outputs": [],
   "source": []
  }
 ],
 "metadata": {
  "kernelspec": {
   "display_name": "Julia 1.5.3",
   "language": "julia",
   "name": "julia-1.5"
  },
  "language_info": {
   "file_extension": ".jl",
   "mimetype": "application/julia",
   "name": "julia",
   "version": "1.5.3"
  }
 },
 "nbformat": 4,
 "nbformat_minor": 4
}
